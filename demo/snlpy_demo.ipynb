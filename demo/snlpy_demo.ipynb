{
 "cells": [
  {
   "cell_type": "markdown",
   "metadata": {},
   "source": [
    "# snlpy demo"
   ]
  },
  {
   "cell_type": "markdown",
   "metadata": {},
   "source": [
    "## CsrGraph"
   ]
  },
  {
   "cell_type": "code",
   "execution_count": 1,
   "metadata": {},
   "outputs": [],
   "source": [
    "# Make sure you have the latest version of networkx\n",
    "# First, we generate a SBM to train on. It has 5 blocks of size 20,\n",
    "# and the average density within blocks is .7, while that between is .07\n",
    "import networkx as nx\n",
    "block_size = 20\n",
    "block_number = 5\n",
    "g = nx.generators.community.stochastic_block_model([block_size for _ in range(block_number)], [[.7 if i == j else .07 for j in range(block_number)] for i in range(block_number)])\n",
    "#Now we will convert it to snlpy's CsrGraph format\n",
    "import snlpy\n",
    "g = snlpy.CsrGraph(g)"
   ]
  },
  {
   "cell_type": "code",
   "execution_count": 2,
   "metadata": {},
   "outputs": [
    {
     "name": "stdout",
     "output_type": "stream",
     "text": [
      "The sbm has 100 nodes and 938 edges.\n",
      "Node 0 has 19 neighbors.\n"
     ]
    }
   ],
   "source": [
    "# Here's some stuff you can do with CsrGraph\n",
    "# NOTE: CsrGraph is an immutable datatype\n",
    "print('The sbm has %d nodes and %d edges.' % (g.number_of_nodes(), g.number_of_edges()))\n",
    "print('Node 0 has %d neighbors.' % (len(g.neighbors(0))))"
   ]
  },
  {
   "cell_type": "markdown",
   "metadata": {},
   "source": [
    "## Embeddings"
   ]
  },
  {
   "cell_type": "code",
   "execution_count": 3,
   "metadata": {},
   "outputs": [],
   "source": [
    "# Let's generate some embeddings on g\n",
    "dw_emb = snlpy.DeepWalk(g, dimensions=32)\n",
    "nmf_emb = snlpy.NetMF(g, dimensions=32)\n",
    "n2v_emb = snlpy.Node2Vec(g, dimensions=32)"
   ]
  },
  {
   "cell_type": "code",
   "execution_count": 4,
   "metadata": {},
   "outputs": [
    {
     "data": {
      "image/png": "[encoded data removed]",
      "text/plain": [
       "<Figure size 432x288 with 1 Axes>"
      ]
     },
     "metadata": {
      "needs_background": "light"
     },
     "output_type": "display_data"
    }
   ],
   "source": [
    "# Let's see how well the dot products approximate the block structure\n",
    "# We'll calculate the precision at 10 for all methods\n",
    "from sklearn.metrics import precision_recall_curve\n",
    "import numpy as np\n",
    "def p10_distribution(emb):\n",
    "    ps = []\n",
    "    for v in range(len(emb)):\n",
    "        dot_products = np.dot(emb[v, :], emb.T)\n",
    "        curr_block = v // block_size\n",
    "        ps.append(np.sum([1 for u in np.argsort(-dot_products)[:10] if u // block_size == curr_block])/10)\n",
    "    return ps\n",
    "\n",
    "#They look pretty good!\n",
    "import matplotlib.pyplot as plt\n",
    "plt.hist(p10_distribution(dw_emb), alpha=.5, label='DeepWalk')\n",
    "plt.hist(p10_distribution(nmf_emb), alpha=.5, label='NetMF')\n",
    "plt.hist(p10_distribution(n2v_emb), alpha=.5, label='Node2Vec')\n",
    "plt.legend()\n",
    "plt.title('Precision@10 distribution of embeddings over SBM')\n",
    "plt.show()"
   ]
  },
  {
   "cell_type": "markdown",
   "metadata": {},
   "source": [
    "## PPR clustering"
   ]
  },
  {
   "cell_type": "code",
   "execution_count": 5,
   "metadata": {},
   "outputs": [
    {
     "data": {
      "image/png": "[encoded data removed]",
      "text/plain": [
       "<Figure size 432x288 with 1 Axes>"
      ]
     },
     "metadata": {
      "needs_background": "light"
     },
     "output_type": "display_data"
    }
   ],
   "source": [
    "#Let's see what a ppr cluster looks like with 0 as a seed\n",
    "#Almost all of the weight is on vertices in 0's block (the first 100).\n",
    "#That's pretty cool, it means its a good way to get nodes in the same\n",
    "#community as the seed.\n",
    "ppr_vector = snlpy.ppr(g, [0], alpha=0.85, tol=0.000001)\n",
    "plt.bar(range(g.number_of_nodes()), ppr_vector.toarray().reshape(-1,))\n",
    "plt.yscale('log')\n",
    "plt.title('Approximate ppr vector for node 0')\n",
    "plt.xlabel('Node ID')\n",
    "plt.ylabel('Vector magnitude')\n",
    "plt.show()"
   ]
  },
  {
   "cell_type": "code",
   "execution_count": null,
   "metadata": {},
   "outputs": [],
   "source": []
  }
 ],
 "metadata": {
  "kernelspec": {
   "display_name": "Python 3",
   "language": "python",
   "name": "python3"
  },
  "language_info": {
   "codemirror_mode": {
    "name": "ipython",
    "version": 3
   },
   "file_extension": ".py",
   "mimetype": "text/x-python",
   "name": "python",
   "nbconvert_exporter": "python",
   "pygments_lexer": "ipython3",
   "version": "3.8.6"
  }
 },
 "nbformat": 4,
 "nbformat_minor": 4
}
